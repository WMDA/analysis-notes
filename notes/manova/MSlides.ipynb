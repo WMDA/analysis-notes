{
 "cells": [
  {
   "cell_type": "markdown",
   "metadata": {
    "slideshow": {
     "slide_type": "slide"
    }
   },
   "source": [
    "# MANOVA \n",
    "\n"
   ]
  },
  {
   "cell_type": "code",
   "execution_count": 1,
   "metadata": {
    "slideshow": {
     "slide_type": "skip"
    }
   },
   "outputs": [
    {
     "data": {
      "text/plain": [
       "{'theme': 'moon',\n",
       " 'transition': 'zoom',\n",
       " 'start_slideshow_at': 'selected',\n",
       " 'overlay': \"<div class='myheader'><h2>my company</h2></div><div class='myfooter'><h2>the date</h2></div>\"}"
      ]
     },
     "execution_count": 1,
     "metadata": {},
     "output_type": "execute_result"
    }
   ],
   "source": [
    "from traitlets.config.manager import BaseJSONConfigManager\n",
    "from pathlib import Path\n",
    "path = Path.home() / \".jupyter\" / \"nbconfig\"\n",
    "cm = BaseJSONConfigManager(config_dir=str(path))\n",
    "cm.update(\n",
    "    \"rise\",\n",
    "    {\n",
    "        \"theme\": \"moon\",\n",
    "        \"transition\": \"zoom\",\n",
    "        \"start_slideshow_at\": \"selected\",\n",
    "     \"overlay\": \"<div class='myheader'><h2>my company</h2></div><div class='myfooter'><h2>the date</h2></div>\"\n",
    "     }\n",
    ")"
   ]
  },
  {
   "cell_type": "code",
   "execution_count": 3,
   "metadata": {
    "slideshow": {
     "slide_type": "skip"
    }
   },
   "outputs": [],
   "source": [
    "def hide_code_in_slideshow():   \n",
    "    from IPython import display\n",
    "    import binascii\n",
    "    import os\n",
    "    uid = binascii.hexlify(os.urandom(8)).decode()    \n",
    "    html = \"\"\"<div id=\"%s\"></div>\n",
    "    <script type=\"text/javascript\">\n",
    "        $(function(){\n",
    "            var p = $(\"#%s\");\n",
    "            if (p.length==0) return;\n",
    "            while (!p.hasClass(\"cell\")) {\n",
    "                p=p.parent();\n",
    "                if (p.prop(\"tagName\") ==\"body\") return;\n",
    "            }\n",
    "            var cell = p;\n",
    "            cell.find(\".input\").addClass(\"hide-in-slideshow\")\n",
    "        });\n",
    "    </script>\"\"\" % (uid, uid)\n",
    "    display.display_html(html, raw=False)"
   ]
  },
  {
   "cell_type": "code",
   "execution_count": 12,
   "metadata": {
    "slideshow": {
     "slide_type": "subslide"
    }
   },
   "outputs": [
    {
     "data": {
      "text/html": [
       "<img src=\"http://python.org/images/python-logo.gif\"/>"
      ],
      "text/plain": [
       "<IPython.core.display.Image object>"
      ]
     },
     "metadata": {},
     "output_type": "display_data"
    }
   ],
   "source": [
    "hide_code_in_slideshow()\n",
    "from IPython.display import Image\n",
    "remote_image = Image(url='http://python.org/images/python-logo.gif')\n",
    "display(remote_image)"
   ]
  },
  {
   "cell_type": "code",
   "execution_count": 2,
   "metadata": {
    "slideshow": {
     "slide_type": "subslide"
    },
    "tags": [
     "hide-input"
    ]
   },
   "outputs": [
    {
     "data": {
      "application/vnd.jupyter.widget-view+json": {
       "model_id": "4a5a756f5a724eab98d55c6dc4127a64",
       "version_major": 2,
       "version_minor": 0
      },
      "text/plain": [
       "interactive(children=(IntSlider(value=50, description='x'), Output()), _dom_classes=('widget-interact',))"
      ]
     },
     "metadata": {},
     "output_type": "display_data"
    }
   ],
   "source": [
    "\n",
    "from ipywidgets import interact\n",
    "@interact(x=(0, 100))\n",
    "def double_number(x):\n",
    "    print(\"The double of %d is %d.\" % (x, x*2))"
   ]
  },
  {
   "cell_type": "markdown",
   "metadata": {
    "slideshow": {
     "slide_type": "subslide"
    }
   },
   "source": [
    "## What is a MANOVA?\n",
    "\n",
    "A MANOVA is an extension of an ANOVA however is concerned with a comparison of vectors of group means.\n",
    "\n",
    "A MANOVA has one one or more factors (indepedent variable such as teaching method, BMI etc) with two or more levels (i.e groups) and two or more depent variables. \n",
    "\n",
    "The difference to ANOVAs is the number of depedent variables, as ANOVAs have one dependent variable while MANOVAs have two or more. \n",
    "\n",
    "## Technical details for MANOVA\n",
    "\n",
    "A MANOVA is concerned with testing if vectors of means for two or more groups are sampled from the same sampling distribution (a t-test is concerned if two means are sampled from the same sampling distribution while an ANOVA is two or more means).\n",
    "\n",
    "Unlike \n",
    "\n",
    "## When a MANOVA is used.\n",
    "\n",
    "1. When several correlated variables and there is a need for an overall statistical test on this set of variables instead of performing multiple tests\n",
    "2. To explore how independent variables influence some patten of response in the dependent variable.\n",
    "3. Used when assumptions of sphericity (how equal the variance is, more equla variance == Sphericity)"
   ]
  },
  {
   "cell_type": "code",
   "execution_count": 4,
   "metadata": {
    "slideshow": {
     "slide_type": "slide"
    }
   },
   "outputs": [],
   "source": [
    "import pandas as pd \n",
    "from statsmodels.multivariate.manova import MANOVA\n",
    "from sklearn.discriminant_analysis import LinearDiscriminantAnalysis as lda\n",
    "import statsmodels.api as sm\n",
    "from statsmodels.formula.api import ols"
   ]
  },
  {
   "cell_type": "code",
   "execution_count": 5,
   "metadata": {
    "slideshow": {
     "slide_type": "subslide"
    }
   },
   "outputs": [],
   "source": [
    "df = pd.read_csv('MANOVA_example.csv')"
   ]
  },
  {
   "cell_type": "code",
   "execution_count": 6,
   "metadata": {
    "slideshow": {
     "slide_type": "subslide"
    }
   },
   "outputs": [
    {
     "name": "stdout",
     "output_type": "stream",
     "text": [
      "   Method   Test  Satisfaction\n",
      "0       1  3.000         3.001\n",
      "1       1  2.990         2.994\n",
      "2       1  3.041         3.032\n",
      "3       1  3.063         3.059\n",
      "4       1  3.035         3.026\n",
      "Method            int64\n",
      "Test            float64\n",
      "Satisfaction    float64\n",
      "dtype: object\n"
     ]
    }
   ],
   "source": [
    "print(df.head(5))\n",
    "print(df.dtypes)"
   ]
  },
  {
   "cell_type": "code",
   "execution_count": 7,
   "metadata": {
    "slideshow": {
     "slide_type": "subslide"
    }
   },
   "outputs": [
    {
     "name": "stdout",
     "output_type": "stream",
     "text": [
      "[1 2 3]\n"
     ]
    }
   ],
   "source": [
    "print(df['Method'].unique())"
   ]
  },
  {
   "cell_type": "code",
   "execution_count": 8,
   "metadata": {
    "slideshow": {
     "slide_type": "subslide"
    }
   },
   "outputs": [],
   "source": [
    "groups = df.groupby('Method')\n",
    "groupa = groups.get_group(1)\n",
    "groupb = groups.get_group(2)\n",
    "groupc = groups.get_group(3)"
   ]
  },
  {
   "cell_type": "code",
   "execution_count": 9,
   "metadata": {
    "slideshow": {
     "slide_type": "subslide"
    }
   },
   "outputs": [
    {
     "data": {
      "text/html": [
       "<div id=\"84bdc5bf84314b4e\"></div>\n",
       "    <script type=\"text/javascript\">\n",
       "        $(function(){\n",
       "            var p = $(\"#84bdc5bf84314b4e\");\n",
       "            if (p.length==0) return;\n",
       "            while (!p.hasClass(\"cell\")) {\n",
       "                p=p.parent();\n",
       "                if (p.prop(\"tagName\") ==\"body\") return;\n",
       "            }\n",
       "            var cell = p;\n",
       "            cell.find(\".input\").addClass(\"hide-in-slideshow\")\n",
       "        });\n",
       "    </script>"
      ]
     },
     "metadata": {},
     "output_type": "display_data"
    },
    {
     "name": "stdout",
     "output_type": "stream",
     "text": [
      "                       count      mean       std    min      25%     50%  \\\n",
      "Method 1 Test           16.0  3.019313  0.018973  2.990  3.00675  3.0165   \n",
      "         Satisfaction   16.0  3.015125  0.016661  2.994  3.00300  3.0105   \n",
      "Method 2 Test           16.0  3.020438  0.015891  2.997  3.00975  3.0150   \n",
      "         Satisfaction   16.0  3.013313  0.016600  2.993  3.00275  3.0065   \n",
      "Method 3 Test           16.0  3.027813  0.010540  3.007  3.02250  3.0270   \n",
      "         Satisfaction   16.0  3.013125  0.013266  2.985  3.00425  3.0135   \n",
      "\n",
      "                           75%    max  \n",
      "Method 1 Test          3.03275  3.063  \n",
      "         Satisfaction  3.02525  3.059  \n",
      "Method 2 Test          3.03375  3.050  \n",
      "         Satisfaction  3.02400  3.045  \n",
      "Method 3 Test          3.03225  3.048  \n",
      "         Satisfaction  3.02050  3.036  \n"
     ]
    }
   ],
   "source": [
    "hide_code_in_slideshow()\n",
    "des = pd.concat([groupa[['Test','Satisfaction']].describe().T, groupb[['Test','Satisfaction']].describe().T, groupc[['Test','Satisfaction']].describe().T], \n",
    "                 keys=['Method 1', 'Method 2', 'Method 3'])\n",
    "print(des)"
   ]
  },
  {
   "cell_type": "markdown",
   "metadata": {
    "slideshow": {
     "slide_type": "slide"
    }
   },
   "source": [
    "Looking at the following Graphs can conclude there "
   ]
  },
  {
   "cell_type": "code",
   "execution_count": 10,
   "metadata": {
    "slideshow": {
     "slide_type": "slide"
    }
   },
   "outputs": [
    {
     "data": {
      "text/html": [
       "<div id=\"592b25fb2d74c341\"></div>\n",
       "    <script type=\"text/javascript\">\n",
       "        $(function(){\n",
       "            var p = $(\"#592b25fb2d74c341\");\n",
       "            if (p.length==0) return;\n",
       "            while (!p.hasClass(\"cell\")) {\n",
       "                p=p.parent();\n",
       "                if (p.prop(\"tagName\") ==\"body\") return;\n",
       "            }\n",
       "            var cell = p;\n",
       "            cell.find(\".input\").addClass(\"hide-in-slideshow\")\n",
       "        });\n",
       "    </script>"
      ]
     },
     "metadata": {},
     "output_type": "display_data"
    },
    {
     "data": {
      "text/plain": [
       "<AxesSubplot:xlabel='Method', ylabel='Test'>"
      ]
     },
     "execution_count": 10,
     "metadata": {},
     "output_type": "execute_result"
    },
    {
     "data": {
      "image/png": "[encoded data removed]",
      "text/plain": [
       "<Figure size 1152x576 with 2 Axes>"
      ]
     },
     "metadata": {},
     "output_type": "display_data"
    }
   ],
   "source": [
    "hide_code_in_slideshow()\n",
    "import matplotlib.pyplot as plt\n",
    "import seaborn as sns\n",
    "sns.set_style('dark')\n",
    "fig, ax = plt.subplots(1,2, figsize=(16,8))\n",
    "fig.suptitle('Data exploration')\n",
    "\n",
    "sns.boxplot(ax=ax[0], data=df, x='Method', y='Satisfaction', hue=df['Method'].tolist(), linewidth=1)\n",
    "sns.stripplot(ax=ax[0], data=df, x='Method', y='Satisfaction', color=\".15\")\n",
    "\n",
    "\n",
    "sns.boxplot(ax=ax[1], data=df, x='Method', y='Test', hue=df['Method'].tolist(), linewidth=1)\n",
    "sns.stripplot(ax=ax[1], data=df, x='Method', y='Test', color=\".15\")"
   ]
  },
  {
   "cell_type": "code",
   "execution_count": 11,
   "metadata": {
    "slideshow": {
     "slide_type": "subslide"
    }
   },
   "outputs": [
    {
     "data": {
      "text/plain": [
       "<AxesSubplot:xlabel='Satisfaction', ylabel='Test'>"
      ]
     },
     "execution_count": 11,
     "metadata": {},
     "output_type": "execute_result"
    },
    {
     "data": {
      "image/png": "[encoded data removed]",
      "text/plain": [
       "<Figure size 1152x576 with 2 Axes>"
      ]
     },
     "metadata": {},
     "output_type": "display_data"
    }
   ],
   "source": [
    "fig, ax = plt.subplots(1,2, figsize=(16,8))\n",
    "sns.scatterplot(ax=ax[0], data=df, x='Satisfaction', y='Test', hue=df['Method'].tolist())\n",
    "sns.regplot(ax=ax[1], data=df, x='Satisfaction', y='Test', ci=False)"
   ]
  },
  {
   "cell_type": "code",
   "execution_count": 12,
   "metadata": {
    "slideshow": {
     "slide_type": "slide"
    }
   },
   "outputs": [],
   "source": [
    "fit = MANOVA.from_formula('Test + Satisfaction ~ Method', data=df)\n",
    "fitted_model = fit.mv_test()"
   ]
  },
  {
   "cell_type": "code",
   "execution_count": 13,
   "metadata": {
    "slideshow": {
     "slide_type": "slide"
    }
   },
   "outputs": [
    {
     "name": "stdout",
     "output_type": "stream",
     "text": [
      "                     Multivariate linear model\n",
      "===================================================================\n",
      "                                                                   \n",
      "-------------------------------------------------------------------\n",
      "       Intercept          Value   Num DF  Den DF   F Value   Pr > F\n",
      "-------------------------------------------------------------------\n",
      "          Wilks' lambda    0.0002 2.0000 45.0000 131226.2913 0.0000\n",
      "         Pillai's trace    0.9998 2.0000 45.0000 131226.2913 0.0000\n",
      " Hotelling-Lawley trace 5832.2796 2.0000 45.0000 131226.2913 0.0000\n",
      "    Roy's greatest root 5832.2796 2.0000 45.0000 131226.2913 0.0000\n",
      "-------------------------------------------------------------------\n",
      "                                                                   \n",
      "--------------------------------------------------------------------\n",
      "            Method          Value   Num DF   Den DF  F Value  Pr > F\n",
      "--------------------------------------------------------------------\n",
      "             Wilks' lambda  0.5423  2.0000  45.0000  18.9867  0.0000\n",
      "            Pillai's trace  0.4577  2.0000  45.0000  18.9867  0.0000\n",
      "    Hotelling-Lawley trace  0.8439  2.0000  45.0000  18.9867  0.0000\n",
      "       Roy's greatest root  0.8439  2.0000  45.0000  18.9867  0.0000\n",
      "===================================================================\n",
      "\n"
     ]
    }
   ],
   "source": [
    "print(fitted_model)"
   ]
  },
  {
   "cell_type": "code",
   "execution_count": 14,
   "metadata": {
    "slideshow": {
     "slide_type": "slide"
    }
   },
   "outputs": [
    {
     "name": "stdout",
     "output_type": "stream",
     "text": [
      "ANOVA TABLE for Test and Teaching method\n",
      "             df     sum_sq   mean_sq        F    PR(>F)\n",
      "Test       1.0   1.603332  1.603332  2.42636  0.126164\n",
      "Residual  46.0  30.396668  0.660797      NaN       NaN\n",
      "\n",
      "ANOVA TABLE for Satisfaction and Teaching method\n",
      "                 df     sum_sq   mean_sq         F   PR(>F)\n",
      "Satisfaction   1.0   0.093295  0.093295  0.134503  0.71549\n",
      "Residual      46.0  31.906705  0.693624       NaN      NaN\n"
     ]
    }
   ],
   "source": [
    "print('ANOVA TABLE for Test and Teaching method\\n', sm.stats.anova_lm(ols('Method ~ Test', data=df).fit(), typ=1))\n",
    "print('\\nANOVA TABLE for Satisfaction and Teaching method\\n', sm.stats.anova_lm(ols('Method ~ Satisfaction', data=df).fit(), typ=1))\n"
   ]
  },
  {
   "cell_type": "code",
   "execution_count": 15,
   "metadata": {
    "slideshow": {
     "slide_type": "slide"
    }
   },
   "outputs": [],
   "source": [
    "x = df[['Test', 'Satisfaction']]\n",
    "y = df['Method']\n",
    "post_hoc = lda().fit(X=x, y=y)"
   ]
  },
  {
   "cell_type": "code",
   "execution_count": 16,
   "metadata": {
    "slideshow": {
     "slide_type": "slide"
    }
   },
   "outputs": [
    {
     "name": "stdout",
     "output_type": "stream",
     "text": [
      "[0.33333333 0.33333333 0.33333333] \n",
      "\n",
      "[[-215.04596693  -10.13601837]\n",
      " [ 207.44096018  -54.43799805]] \n",
      "\n",
      "[[3.0193125 3.015125 ]\n",
      " [3.0204375 3.0133125]\n",
      " [3.0278125 3.013125 ]] \n",
      "\n",
      "[0.99847505 0.00152495]\n"
     ]
    }
   ],
   "source": [
    "print(post_hoc.priors_,'\\n')\n",
    "print(post_hoc.scalings_,'\\n')\n",
    "print(post_hoc.means_,'\\n')\n",
    "print(post_hoc.explained_variance_ratio_)"
   ]
  },
  {
   "cell_type": "code",
   "execution_count": 17,
   "metadata": {
    "slideshow": {
     "slide_type": "slide"
    }
   },
   "outputs": [
    {
     "data": {
      "text/plain": [
       "<AxesSubplot:xlabel='lda1', ylabel='lda2'>"
      ]
     },
     "execution_count": 17,
     "metadata": {},
     "output_type": "execute_result"
    },
    {
     "data": {
      "image/png": "[encoded data removed]",
      "text/plain": [
       "<Figure size 432x288 with 1 Axes>"
      ]
     },
     "metadata": {},
     "output_type": "display_data"
    }
   ],
   "source": [
    "plotting_x = pd.DataFrame(lda().fit(X=x, y=y).transform(x), columns=['lda1', 'lda2']) \n",
    "plotting_x['Method'] = df['Method']\n",
    "sns.scatterplot(data=plotting_x, x='lda1', y='lda2', hue=df['Method'].tolist())"
   ]
  }
 ],
 "metadata": {
  "celltoolbar": "Edit Metadata",
  "interpreter": {
   "hash": "d6aaeafbb34bd8ccb4b94759bad6d8a43f22b1f97d06ebd89ca25d302d210f79"
  },
  "kernelspec": {
   "display_name": "Python 3 (ipykernel)",
   "language": "python",
   "name": "python3"
  },
  "language_info": {
   "codemirror_mode": {
    "name": "ipython",
    "version": 3
   },
   "file_extension": ".py",
   "mimetype": "text/x-python",
   "name": "python",
   "nbconvert_exporter": "python",
   "pygments_lexer": "ipython3",
   "version": "3.9.7"
  },
  "rise": {
   "enable_chalkboard": true,
   "leap_motion": {
    "naturalSwipe": true,
    "pointerColor": "#d80000",
    "pointerOpacity": 0.5
   }
  }
 },
 "nbformat": 4,
 "nbformat_minor": 2
}
